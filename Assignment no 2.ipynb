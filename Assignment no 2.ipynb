{
 "cells": [
  {
   "cell_type": "code",
   "execution_count": null,
   "id": "5c5fa34b",
   "metadata": {},
   "outputs": [],
   "source": [
    "import pandas as pd\n",
    "import numpy as np\n",
    "import matplotlib.pyplot as plt\n",
    "from scipy import stats"
   ]
  },
  {
   "cell_type": "code",
   "execution_count": null,
   "id": "d5d69e94",
   "metadata": {},
   "outputs": [],
   "source": [
    "df=pd.read_csv(\"/content/StudentPerformance.csv\")"
   ]
  },
  {
   "cell_type": "code",
   "execution_count": null,
   "id": "bd91d719",
   "metadata": {},
   "outputs": [],
   "source": [
    "df"
   ]
  },
  {
   "cell_type": "code",
   "execution_count": null,
   "id": "0635b520",
   "metadata": {},
   "outputs": [],
   "source": [
    "df.isnull()"
   ]
  },
  {
   "cell_type": "code",
   "execution_count": null,
   "id": "6970bda6",
   "metadata": {},
   "outputs": [],
   "source": [
    "series = pd.isnull(df[\"reading score\"])\n",
    "df[series]"
   ]
  },
  {
   "cell_type": "code",
   "execution_count": null,
   "id": "6eb8707d",
   "metadata": {},
   "outputs": [],
   "source": [
    "\n",
    "df.notnull()"
   ]
  },
  {
   "cell_type": "code",
   "execution_count": null,
   "id": "3d369451",
   "metadata": {},
   "outputs": [],
   "source": [
    "seseries = pd.notnull(df[\"reading score\"])\n",
    "df[series]\n",
    "     "
   ]
  },
  {
   "cell_type": "code",
   "execution_count": null,
   "id": "1655a2ec",
   "metadata": {},
   "outputs": [],
   "source": [
    "from sklearn.preprocessing import LabelEncoder\n",
    "le = LabelEncoder ()\n",
    "df['gender'] = le.fit_transform(df['gender'])\n",
    "newdf=df\n",
    "df"
   ]
  },
  {
   "cell_type": "code",
   "execution_count": null,
   "id": "7f08150d",
   "metadata": {},
   "outputs": [],
   "source": [
    "df['gender'].replace({1: \"male\", 0: \"female\"}, inplace=True)\n",
    "df"
   ]
  },
  {
   "cell_type": "code",
   "execution_count": null,
   "id": "95dccc08",
   "metadata": {},
   "outputs": [],
   "source": [
    "ndf=df\n",
    "ndf.fillna(0)"
   ]
  },
  {
   "cell_type": "code",
   "execution_count": null,
   "id": "278b32b1",
   "metadata": {},
   "outputs": [],
   "source": [
    "m_v=df['reading score'].mean()\n",
    "df['reading score'].fillna(value=m_v, inplace=True)\n",
    "df"
   ]
  },
  {
   "cell_type": "code",
   "execution_count": null,
   "id": "79fa6598",
   "metadata": {},
   "outputs": [],
   "source": [
    "ndf.replace(to_replace = np.nan, value = -99)"
   ]
  },
  {
   "cell_type": "code",
   "execution_count": null,
   "id": "1b2e8654",
   "metadata": {},
   "outputs": [],
   "source": [
    "ndf.dropna()"
   ]
  },
  {
   "cell_type": "code",
   "execution_count": null,
   "id": "50094244",
   "metadata": {},
   "outputs": [],
   "source": [
    "ndf.dropna(how = 'all')"
   ]
  },
  {
   "cell_type": "code",
   "execution_count": null,
   "id": "d5aa8713",
   "metadata": {},
   "outputs": [],
   "source": [
    "ndf.dropna(axis = 1)"
   ]
  },
  {
   "cell_type": "code",
   "execution_count": null,
   "id": "a710eefb",
   "metadata": {},
   "outputs": [],
   "source": [
    "new_data =ndf.dropna (axis = 0, how ='any')\n",
    "new_data"
   ]
  },
  {
   "cell_type": "code",
   "execution_count": null,
   "id": "c82d23ae",
   "metadata": {},
   "outputs": [],
   "source": [
    "col =['reading score', 'reading score', 'writing score', 'placement score']\n",
    "df.boxplot(col)"
   ]
  },
  {
   "cell_type": "code",
   "execution_count": null,
   "id": "af14b0ad",
   "metadata": {},
   "outputs": [],
   "source": [
    "print(np.where(df['reading score']>90))\n",
    "print(np.where(df['writing score']>90))"
   ]
  },
  {
   "cell_type": "code",
   "execution_count": null,
   "id": "53a578b5",
   "metadata": {},
   "outputs": [],
   "source": [
    "fig, ax =plt.subplots(figsize = (18,10))\n",
    "ax.scatter(df['reading score'], df['writing score'])\n",
    "plt.show()\n",
    "ax.set_xlabel('(Proportion non-retail business acres)/(town)')\n",
    "ax.set_ylabel('(Full-value property-tax rate)/($10,000)')\n"
   ]
  },
  {
   "cell_type": "code",
   "execution_count": null,
   "id": "4a6783ab",
   "metadata": {},
   "outputs": [],
   "source": [
    "print(np.where((df['reading score']<50) & (df['writing score']>1)))\n",
    "print(np.where((df['reading score']>85) & (df['writing score']<3)))\n"
   ]
  },
  {
   "cell_type": "code",
   "execution_count": null,
   "id": "e4e1b1b5",
   "metadata": {},
   "outputs": [],
   "source": [
    "z = np.abs(stats.zscore(df['reading score']))"
   ]
  },
  {
   "cell_type": "code",
   "execution_count": null,
   "id": "d212dba8",
   "metadata": {},
   "outputs": [],
   "source": [
    "print(z)\n",
    "     "
   ]
  },
  {
   "cell_type": "code",
   "execution_count": null,
   "id": "59aedca2",
   "metadata": {},
   "outputs": [],
   "source": [
    "threshold = 0.18"
   ]
  },
  {
   "cell_type": "code",
   "execution_count": null,
   "id": "b0580d47",
   "metadata": {},
   "outputs": [],
   "source": [
    "sample_outliers = np.where(z)"
   ]
  },
  {
   "cell_type": "code",
   "execution_count": null,
   "id": "943cb913",
   "metadata": {},
   "outputs": [],
   "source": [
    "sorted_rscore= sorted(df['reading score'])"
   ]
  },
  {
   "cell_type": "code",
   "execution_count": null,
   "id": "f21ec477",
   "metadata": {},
   "outputs": [],
   "source": [
    "sorted_rscore"
   ]
  },
  {
   "cell_type": "code",
   "execution_count": null,
   "id": "8e6f5391",
   "metadata": {},
   "outputs": [],
   "source": [
    "q1 = np.percentile(sorted_rscore, 25)\n",
    "q3 = np.percentile(sorted_rscore, 75)\n",
    "print(q1,q3)"
   ]
  },
  {
   "cell_type": "code",
   "execution_count": null,
   "id": "a4dd26d6",
   "metadata": {},
   "outputs": [],
   "source": [
    "IQR = q3-q1"
   ]
  },
  {
   "cell_type": "code",
   "execution_count": null,
   "id": "c4dff9b4",
   "metadata": {},
   "outputs": [],
   "source": [
    "lwr_bound = q1-(1.5*IQR)\n",
    "upr_bound = q3+(1.5*IQR)\n",
    "print(lwr_bound, upr_bound)"
   ]
  },
  {
   "cell_type": "code",
   "execution_count": null,
   "id": "a086b81e",
   "metadata": {},
   "outputs": [],
   "source": [
    "new_df=df\n",
    "for i in sample_outliers:new_df.drop(i,inplace=True)\n",
    "new_df"
   ]
  },
  {
   "cell_type": "code",
   "execution_count": null,
   "id": "948fca7d",
   "metadata": {},
   "outputs": [],
   "source": [
    "df=pd.read_csv(\"/content/StudentPerformance.csv\")"
   ]
  },
  {
   "cell_type": "code",
   "execution_count": null,
   "id": "495ac941",
   "metadata": {},
   "outputs": [],
   "source": [
    "df_stud=df\n",
    "ninetieth_percentile = np.percentile(df_stud['reading score'], 90)\n",
    "b = np.where(df_stud['reading score']>ninetieth_percentile,\n",
    "ninetieth_percentile, df_stud['reading score'])\n",
    "print(\"New array:\",b)\n",
    "     "
   ]
  },
  {
   "cell_type": "code",
   "execution_count": null,
   "id": "e973420e",
   "metadata": {},
   "outputs": [],
   "source": [
    "col = ['reading score']\n",
    "\n",
    "df.boxplot(col)"
   ]
  },
  {
   "cell_type": "code",
   "execution_count": null,
   "id": "b0a5415d",
   "metadata": {},
   "outputs": [],
   "source": [
    "median=np.median(sorted_rscore)\n",
    "median"
   ]
  },
  {
   "cell_type": "code",
   "execution_count": null,
   "id": "69c0745e",
   "metadata": {},
   "outputs": [],
   "source": [
    "refined_df=df\n",
    "refined_df['reading score'] = np.where(refined_df['reading score'] >upr_bound, median,refined_df['reading score'])\n",
    "\n",
    "     "
   ]
  },
  {
   "cell_type": "code",
   "execution_count": null,
   "id": "42de0be5",
   "metadata": {},
   "outputs": [],
   "source": [
    "df"
   ]
  },
  {
   "cell_type": "code",
   "execution_count": null,
   "id": "d7ce2345",
   "metadata": {},
   "outputs": [],
   "source": [
    "refined_df['reading score'] = np.where(refined_df['reading score'] "
   ]
  },
  {
   "cell_type": "code",
   "execution_count": null,
   "id": "66bf1935",
   "metadata": {},
   "outputs": [],
   "source": [
    "df"
   ]
  },
  {
   "cell_type": "code",
   "execution_count": null,
   "id": "8a252715",
   "metadata": {},
   "outputs": [],
   "source": [
    "col = ['reading score']\n",
    "refined_df.boxplot(col)"
   ]
  },
  {
   "cell_type": "code",
   "execution_count": null,
   "id": "e192f5a2",
   "metadata": {},
   "outputs": [],
   "source": [
    "df"
   ]
  },
  {
   "cell_type": "code",
   "execution_count": null,
   "id": "675cbb12",
   "metadata": {},
   "outputs": [],
   "source": [
    "import matplotlib.pyplot as plt\n",
    "new_df['reading score'].plot(kind ='hist')\n",
    "df['log_math'] = np.log10(df['reading score'])\n"
   ]
  },
  {
   "cell_type": "code",
   "execution_count": null,
   "id": "ac8843a3",
   "metadata": {},
   "outputs": [],
   "source": [
    "df['log_math'].plot(kind = 'hist')"
   ]
  }
 ],
 "metadata": {
  "kernelspec": {
   "display_name": "Python 3 (ipykernel)",
   "language": "python",
   "name": "python3"
  }
 },
 "nbformat": 4,
 "nbformat_minor": 5
}
